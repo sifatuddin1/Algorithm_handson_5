{
 "cells": [
  {
   "cell_type": "markdown",
   "metadata": {},
   "source": [
    "In this notebook, a min heap data structure is implemented. The following functionality have been tested below: \n",
    "1. The ability to initially build the heap \n",
    "2. The ability to heapify \n",
    "3. The ability to pop the root node from the heap and reheapify everything\n",
    "\n",
    "The heap built is generic to the type of data mentioned. All the functionality with examples that the heap is working are shown below. "
   ]
  },
  {
   "cell_type": "code",
   "execution_count": 1,
   "metadata": {},
   "outputs": [],
   "source": [
    "from typing import List, TypeVar, Generic\n",
    "\n",
    "T = TypeVar('T')  \n",
    "class MinHeap(Generic[T]):\n",
    "    def __init__(self, data: List[T] = None):\n",
    "        self.heap = data if data else []\n",
    "        if self.heap:\n",
    "            self.build_min_heap()\n",
    "    \n",
    "    def parent(self, index: int) -> int:\n",
    "        return (index - 1) >> 1  \n",
    "    \n",
    "    def left_child(self, index: int) -> int:\n",
    "        return (index << 1) + 1  \n",
    "    \n",
    "    def right_child(self, index: int) -> int:\n",
    "        return (index << 1) + 2  \n",
    "    \n",
    "    def heapify_down(self, index: int):\n",
    "        smallest = index\n",
    "        left = self.left_child(index)\n",
    "        right = self.right_child(index)\n",
    "        \n",
    "        if left < len(self.heap) and self.heap[left] < self.heap[smallest]:\n",
    "            smallest = left\n",
    "        if right < len(self.heap) and self.heap[right] < self.heap[smallest]:\n",
    "            smallest = right\n",
    "        \n",
    "        if smallest != index:\n",
    "            self.heap[index], self.heap[smallest] = self.heap[smallest], self.heap[index]\n",
    "            self.heapify_down(smallest)\n",
    "    \n",
    "    def heapify_up(self, index: int):\n",
    "        while index > 0 and self.heap[self.parent(index)] > self.heap[index]:\n",
    "            parent_index = self.parent(index)\n",
    "            self.heap[index], self.heap[parent_index] = self.heap[parent_index], self.heap[index]\n",
    "            index = parent_index\n",
    "    \n",
    "    def build_min_heap(self):\n",
    "        for i in range(len(self.heap) // 2, -1, -1):\n",
    "            self.heapify_down(i)\n",
    "    \n",
    "    def push(self, value: T):\n",
    "        self.heap.append(value)\n",
    "        self.heapify_up(len(self.heap) - 1)\n",
    "    \n",
    "    def pop(self) -> T:\n",
    "        if not self.heap:\n",
    "            raise IndexError(\"Pop from empty heap\")\n",
    "        root = self.heap[0]\n",
    "        self.heap[0] = self.heap[-1]\n",
    "        self.heap.pop()\n",
    "        if self.heap:\n",
    "            self.heapify_down(0)\n",
    "        return root\n",
    "    \n",
    "    def peek(self) -> T:\n",
    "        if not self.heap:\n",
    "            raise IndexError(\"Peek from empty heap\")\n",
    "        return self.heap[0]\n",
    "    \n",
    "    def __len__(self):\n",
    "        return len(self.heap)\n",
    "    \n",
    "    def __str__(self):\n",
    "        return str(self.heap)"
   ]
  },
  {
   "cell_type": "code",
   "execution_count": 2,
   "metadata": {},
   "outputs": [
    {
     "name": "stdout",
     "output_type": "stream",
     "text": [
      "Heap after building: [1, 2, 4, 3, 5, 9, 8]\n"
     ]
    }
   ],
   "source": [
    "heap = MinHeap([5, 3, 8, 1, 2, 9, 4])\n",
    "print(\"Heap after building:\", heap)"
   ]
  },
  {
   "cell_type": "markdown",
   "metadata": {},
   "source": [
    "Lets pop the root node from the heap, which is the minimum value and re-heapify everything. "
   ]
  },
  {
   "cell_type": "code",
   "execution_count": 4,
   "metadata": {},
   "outputs": [
    {
     "name": "stdout",
     "output_type": "stream",
     "text": [
      "Popped value: 2\n",
      "Heap after pop: [3, 5, 4, 8, 9]\n"
     ]
    }
   ],
   "source": [
    "min_value = heap.pop()\n",
    "print(\"Popped value:\", min_value)\n",
    "print(\"Heap after pop:\", heap)\n"
   ]
  },
  {
   "cell_type": "markdown",
   "metadata": {},
   "source": [
    "the root or the minimum value of the heap is removed. "
   ]
  },
  {
   "cell_type": "code",
   "execution_count": 5,
   "metadata": {},
   "outputs": [
    {
     "name": "stdout",
     "output_type": "stream",
     "text": [
      "Heap after building: [10, 20, 15, 30, 40]\n"
     ]
    }
   ],
   "source": [
    "\n",
    "heap = MinHeap([10, 20, 15, 30, 40])\n",
    "print(\"Heap after building:\", heap)"
   ]
  },
  {
   "cell_type": "code",
   "execution_count": null,
   "metadata": {},
   "outputs": [],
   "source": []
  },
  {
   "cell_type": "code",
   "execution_count": 6,
   "metadata": {},
   "outputs": [
    {
     "name": "stdout",
     "output_type": "stream",
     "text": [
      "Heap after manual disruption: [50, 20, 15, 30, 40]\n"
     ]
    }
   ],
   "source": [
    "\n",
    "\n",
    "heap.heap[0] = 50  \n",
    "print(\"Heap after manual disruption:\", heap)"
   ]
  },
  {
   "cell_type": "markdown",
   "metadata": {},
   "source": [
    "after adding the new element, the heap property is violated. now lets fix the heap property again\n"
   ]
  },
  {
   "cell_type": "code",
   "execution_count": 7,
   "metadata": {},
   "outputs": [
    {
     "name": "stdout",
     "output_type": "stream",
     "text": [
      "Heap after heapify_down: [15, 20, 50, 30, 40]\n"
     ]
    }
   ],
   "source": [
    "\n",
    "heap.heapify_down(0)\n",
    "print(\"Heap after heapify_down:\", heap)"
   ]
  },
  {
   "cell_type": "markdown",
   "metadata": {},
   "source": [
    "The heap property is restored again. \n"
   ]
  },
  {
   "cell_type": "markdown",
   "metadata": {},
   "source": []
  }
 ],
 "metadata": {
  "kernelspec": {
   "display_name": "Python 3",
   "language": "python",
   "name": "python3"
  },
  "language_info": {
   "codemirror_mode": {
    "name": "ipython",
    "version": 3
   },
   "file_extension": ".py",
   "mimetype": "text/x-python",
   "name": "python",
   "nbconvert_exporter": "python",
   "pygments_lexer": "ipython3",
   "version": "3.12.5"
  }
 },
 "nbformat": 4,
 "nbformat_minor": 2
}
